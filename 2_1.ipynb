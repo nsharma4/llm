{
 "cells": [
  {
   "cell_type": "code",
   "execution_count": 9,
   "metadata": {},
   "outputs": [],
   "source": [
    "import os\n",
    "import pandas as pd\n",
    "from kaggle.api.kaggle_api_extended import KaggleApi\n",
    "from langchain.vectorstores import Chroma\n",
    "from langchain.embeddings import SentenceTransformerEmbeddings\n",
    "from sentence_transformers import SentenceTransformer\n",
    "from transformers import pipeline\n",
    "from langchain.docstore.document import Document\n"
   ]
  },
  {
   "cell_type": "code",
   "execution_count": 10,
   "metadata": {},
   "outputs": [
    {
     "name": "stdout",
     "output_type": "stream",
     "text": [
      "Dataset URL: https://www.kaggle.com/datasets/asad1m9a9h6mood/news-articles\n"
     ]
    }
   ],
   "source": [
    "# Step 1: Authenticate with the Kaggle API\n",
    "api = KaggleApi()\n",
    "api.authenticate()\n",
    "\n",
    "# Download the dataset (e.g., \"All the News\" dataset)\n",
    "api.dataset_download_files('asad1m9a9h6mood/news-articles', path='data/', unzip=True) \n"
   ]
  },
  {
   "cell_type": "code",
   "execution_count": 11,
   "metadata": {},
   "outputs": [],
   "source": [
    "\n",
    "# Step 2: Load and Process the Dataset\n",
    "file_path = 'data/Articles.csv'  # path based on dataset name\n",
    "df = pd.read_csv(file_path, encoding='ISO-8859-1')\n",
    "#print(df.columns)\n",
    "\n",
    "# Extract the content (text) column from the dataset\n",
    "documents = df['Article'].dropna().tolist()\n",
    "\n",
    "\n",
    "# Convert documents into the required format for Chroma\n",
    "document_list = [\n",
    "    Document(\n",
    "        page_content=row['Article'],\n",
    "        metadata={\n",
    "            'date': row['Date'],\n",
    "            'heading': row['Heading'],\n",
    "            'news_type': row['NewsType']\n",
    "        }\n",
    "    )\n",
    "    for _, row in df.iterrows()\n",
    "]"
   ]
  },
  {
   "cell_type": "code",
   "execution_count": 12,
   "metadata": {},
   "outputs": [
    {
     "name": "stderr",
     "output_type": "stream",
     "text": [
      "c:\\Users\\neals\\AppData\\Local\\Programs\\Python\\Python312\\Lib\\site-packages\\transformers\\tokenization_utils_base.py:1601: FutureWarning: `clean_up_tokenization_spaces` was not set. It will be set to `True` by default. This behavior will be depracted in transformers v4.45, and will be then set to `False` by default. For more details check this issue: https://github.com/huggingface/transformers/issues/31884\n",
      "  warnings.warn(\n"
     ]
    }
   ],
   "source": [
    "# Step 3: Embed Documents\n",
    "embedder = SentenceTransformer('all-MiniLM-L6-v2')\n",
    "embeddings = SentenceTransformerEmbeddings(model_name='all-MiniLM-L6-v2')\n",
    "\n",
    "#Truncate document list because it takes too long to process\n",
    "if len(document_list) > 1000:\n",
    "    document_list = document_list[:1000]\n",
    "\n",
    "# Create a vector store using Chroma\n",
    "vector_store = Chroma.from_documents(document_list, embeddings)\n",
    "\n",
    "\n"
   ]
  },
  {
   "cell_type": "code",
   "execution_count": 13,
   "metadata": {},
   "outputs": [],
   "source": [
    "# Step 4: Query the Vector Store\n",
    "query = \"Tell me about what most likely happens in the news for Istanbul\"\n",
    "retrieved_docs = vector_store.similarity_search(query, k=2)\n"
   ]
  },
  {
   "cell_type": "code",
   "execution_count": 14,
   "metadata": {},
   "outputs": [
    {
     "name": "stderr",
     "output_type": "stream",
     "text": [
      "Loading checkpoint shards: 100%|██████████| 2/2 [01:11<00:00, 35.84s/it]\n"
     ]
    }
   ],
   "source": [
    "# Step 5: Generate a Response Using Retrieved Documents as Context\n",
    "context = \" \".join([doc.page_content for doc in retrieved_docs])\n",
    "\n",
    "# Get the Hugging Face token from the environment variables\n",
    "hf_token = os.getenv(\"HUGGING_FACE_TOKEN\")\n",
    "\n",
    "# Use an LLM for response generation, in this case GPT2\n",
    "#llm = pipeline(\"text-generation\", model=\"gpt2\")  # Replace with another model if needed\n",
    "llm = pipeline(\"text-generation\", model=\"mistralai/Mistral-7B-v0.1\", token=hf_token)\n",
    "\n"
   ]
  },
  {
   "cell_type": "code",
   "execution_count": 15,
   "metadata": {},
   "outputs": [
    {
     "name": "stderr",
     "output_type": "stream",
     "text": [
      "Setting `pad_token_id` to `eos_token_id`:2 for open-end generation.\n"
     ]
    },
    {
     "name": "stdout",
     "output_type": "stream",
     "text": [
      "Generated Response: strong>ISTANBUL: The foiled coup attempt seeking to unseat the government of President Recep Tayyip Erdogan has cost the Turkish economy 300 billion lira ($100 billion/90 billion euro), the trade minister was quoted as saying on Tuesday.</strongCustoms and Commerce Minister Bulent Tufenkci was quoted as saying by the Hurriyet newspaper the heavy price tag may even go up but insisted that Turkey´s economic fundamentals were solid.\"Warplanes, helicopters, weapons, bombs, buildings: 300 billion lira. Maybe I am underestimating a bit,\" he said, referring to the heavy destruction on the night of the coup.\"It might go up even more,\" he said.But the minister warned that the entire picture should be seen in a medium-term context even if some investors had been put off in the short-term.\"The putschists made Turkey seem like a third world country,\" he fumed.\"They (investors) are not coming after the images revealed tanks were deployed on the streets, parliament was bombed,\" he said, adding that some foreign orders had been cancelled in the wake of the coup.But Tufenkci said despite all this Turkey had managed to control the situation.\"Had the coup taken place in another country, markets would not have opened earlier than in a week,\" he said. The coup took place on Friday July 15 but financial markets in Turkey opened as normal after the weekend.\"The interest rates didn´t rise extraordinarily. The stock exchange´s losses have been limited. There´s no need to revise growth or export figures. The nation has stood firm.\"The government has suspended annual leave of public sector personnel in the wake of the coup attempt, blamed by the government on supporters of US-based Islamic preacher Fethullah Gulen.This measure has affected the tourism industry, already hit by foreigners staying away over security fears after a spate of attacks as well as a crisis with Russia.\"Because of a ban on annual leave, one million (tourism) reservations had been cancelled,\" the minister said.The number of foreigners visiting Turkey dropped over 40 percent in June to its lowest level this year but there is optimism the Russians will come back after Ankara mended fences with Moscow.\"From now on tourism will also rally,\" said Tufenkci. strong>ISTANBUL: The foiled coup attempt seeking to unseat the government of President Recep Tayyip Erdogan has cost the Turkish economy 300 billion lira ($100 billion/90 billion euro), the trade minister was quoted as saying on Tuesday.</strongCustoms and Commerce Minister Bulent Tufenkci was quoted as saying by the Hurriyet newspaper the heavy price tag may even go up but insisted that Turkey´s economic fundamentals were solid.\"Warplanes, helicopters, weapons, bombs, buildings: 300 billion lira. Maybe I am underestimating a bit,\" he said, referring to the heavy destruction on the night of the coup.\"It might go up even more,\" he said.But the minister warned that the entire picture should be seen in a medium-term context even if some investors had been put off in the short-term.\"The putschists made Turkey seem like a third world country,\" he fumed.\"They (investors) are not coming after the images revealed tanks were deployed on the streets, parliament was bombed,\" he said, adding that some foreign orders had been cancelled in the wake of the coup.But Tufenkci said despite all this Turkey had managed to control the situation.\"Had the coup taken place in another country, markets would not have opened earlier than in a week,\" he said. The coup took place on Friday July 15 but financial markets in Turkey opened as normal after the weekend.\"The interest rates didn´t rise extraordinarily. The stock exchange´s losses have been limited. There´s no need to revise growth or export figures. The nation has stood firm.\"The government has suspended annual leave of public sector personnel in the wake of the coup attempt, blamed by the government on supporters of US-based Islamic preacher Fethullah Gulen.This measure has affected the tourism industry, already hit by foreigners staying away over security fears after a spate of attacks as well as a crisis with Russia.\"Because of a ban on annual leave, one million (tourism) reservations had been cancelled,\" the minister said.The number of foreigners visiting Turkey dropped over 40 percent in June to its lowest level this year but there is optimism the Russians will come back after Ankara mended fences with Moscow.\"From now on tourism will also rally,\" said Tufenkci.\n"
     ]
    }
   ],
   "source": [
    "# Step 6: Generate the Final Response\n",
    "response = llm(context, max_new_tokens=30, do_sample=True, top_k=50)[0]['generated_text']\n",
    "print(f\"Generated Response: {response}\")"
   ]
  },
  {
   "cell_type": "markdown",
   "metadata": {},
   "source": []
  }
 ],
 "metadata": {
  "kernelspec": {
   "display_name": "Python 3",
   "language": "python",
   "name": "python3"
  },
  "language_info": {
   "codemirror_mode": {
    "name": "ipython",
    "version": 3
   },
   "file_extension": ".py",
   "mimetype": "text/x-python",
   "name": "python",
   "nbconvert_exporter": "python",
   "pygments_lexer": "ipython3",
   "version": "3.12.4"
  }
 },
 "nbformat": 4,
 "nbformat_minor": 2
}
