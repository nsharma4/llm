{
 "cells": [
  {
   "cell_type": "code",
   "execution_count": null,
   "metadata": {},
   "outputs": [],
   "source": [
    "import os\n",
    "import pandas as pd\n",
    "from kaggle.api.kaggle_api_extended import KaggleApi\n",
    "from langchain.vectorstores import Chroma\n",
    "from langchain.embeddings import SentenceTransformerEmbeddings\n",
    "from sentence_transformers import SentenceTransformer\n",
    "from transformers import AutoModelForCausalLM, AutoTokenizer\n",
    "from langchain.docstore.document import Document\n",
    "from nltk.corpus import wordnet\n",
    "import torch\n",
    "\n",
    "# # Ensure NLTK resources are downloaded\n",
    "# import nltk\n",
    "# nltk.download('wordnet')\n",
    "\n",
    "# Authenticate with the Kaggle API\n",
    "api = KaggleApi()\n",
    "api.authenticate()\n"
   ]
  },
  {
   "cell_type": "code",
   "execution_count": null,
   "metadata": {},
   "outputs": [],
   "source": [
    "import os\n",
    "import shutil\n",
    "\n",
    "# Path to Hugging Face cache\n",
    "cache_dir = os.path.expanduser(\"~/.cache/huggingface\")\n",
    "\n",
    "# Check if the cache directory exists and delete it\n",
    "if os.path.exists(cache_dir):\n",
    "    shutil.rmtree(cache_dir)\n",
    "    print(f\"Hugging Face cache at {cache_dir} has been cleared.\")\n",
    "else:\n",
    "    print(\"Hugging Face cache is already cleared.\")\n"
   ]
  },
  {
   "cell_type": "code",
   "execution_count": null,
   "metadata": {},
   "outputs": [],
   "source": [
    "# Prune Git LFS objects to free up space\n",
    "!git -C /home/nealsharma/llm/Mistral-7B-v0.1 lfs prune\n"
   ]
  },
  {
   "cell_type": "code",
   "execution_count": null,
   "metadata": {},
   "outputs": [],
   "source": [
    "# Download the \"All The News\" dataset from Kaggle\n",
    "api.dataset_download_files('asad1m9a9h6mood/news-articles', path='data/', unzip=True)\n",
    "\n",
    "# Load and process the dataset\n",
    "file_path = 'data/Articles.csv'  # Adjust the path based on dataset name\n",
    "df = pd.read_csv(file_path, encoding='ISO-8859-1')\n"
   ]
  },
  {
   "cell_type": "code",
   "execution_count": null,
   "metadata": {},
   "outputs": [],
   "source": [
    "# Convert documents into the required format for Chroma \n",
    "document_list = [\n",
    "    Document(\n",
    "        page_content=row['Article'],\n",
    "        metadata={\n",
    "            'date': row['Date'],\n",
    "            'heading': row['Heading'],\n",
    "            'news_type': row['NewsType']\n",
    "        }\n",
    "    )\n",
    "    for _, row in df.iterrows()\n",
    "]\n",
    "\n",
    "# NOTE Truncate document list because it takes too long to process\n",
    "max_length = 10\n",
    "if len(document_list) > max_length:\n",
    "    document_list = document_list[:max_length]\n"
   ]
  },
  {
   "cell_type": "code",
   "execution_count": null,
   "metadata": {},
   "outputs": [],
   "source": [
    "# Initialize the SentenceTransformer and Chroma vectorstore\n",
    "# Embed documents using SentenceTransformer\n",
    "\n",
    "embedding_function = SentenceTransformerEmbeddings(model_name = 'all-MiniLM-L6-v2')\n",
    "\n",
    "# Create a vector store using Chroma\n",
    "vector_store = Chroma.from_documents(document_list, embedding_function)\n"
   ]
  },
  {
   "cell_type": "code",
   "execution_count": null,
   "metadata": {},
   "outputs": [],
   "source": [
    "# Define a function to perform dynamic retrieval\n",
    "def dynamic_retrieval(query, docs, vector_store):\n",
    "    \"\"\"\n",
    "    Function to dynamically retrieve more documents based on the generated text.\n",
    "    \"\"\"\n",
    "    # Retrieve more documents using the generated query\n",
    "    new_docs = vector_store.similarity_search(query, top_k=2)  # Retrieve top 10 similar documents\n",
    "    \n",
    "    # Filter out already retrieved documents to avoid redundancy\n",
    "    retrieved_docs = {doc.metadata['heading'] for doc in docs}\n",
    "    unique_new_docs = [doc for doc in new_docs if doc.metadata['heading'] not in retrieved_docs]\n",
    "    \n",
    "    return unique_new_docs"
   ]
  },
  {
   "cell_type": "code",
   "execution_count": null,
   "metadata": {},
   "outputs": [],
   "source": [
    "# Expand the initial query\n",
    "query = \"Tell me about what the news in Karachi is  mostly about\"\n",
    "\n",
    "# Initial document retrieval using the query\n",
    "current_docs = vector_store.similarity_search(query, k=2)  # Retrieve top 2 documents initially\n",
    "context = \" \".join([doc.page_content for doc in current_docs])"
   ]
  },
  {
   "cell_type": "code",
   "execution_count": null,
   "metadata": {},
   "outputs": [],
   "source": [
    "# Set the correct model path\n",
    "model_path = \"/home/nealsharma/llm/Mistral-7B-v0.1\"\n",
    "\n",
    "# Load the model and tokenizer\n",
    "model = AutoModelForCausalLM.from_pretrained(model_path, device_map=\"auto\", torch_dtype=torch.bfloat16)\n",
    "tokenizer = AutoTokenizer.from_pretrained(model_path)"
   ]
  },
  {
   "cell_type": "code",
   "execution_count": null,
   "metadata": {},
   "outputs": [],
   "source": [
    "# Caching tokenized context to avoid re-tokenization\n",
    "cached_inputs = None"
   ]
  },
  {
   "cell_type": "code",
   "execution_count": null,
   "metadata": {},
   "outputs": [],
   "source": [
    "import time \n",
    "\n",
    "\n",
    "# Tokenize the initial context (cache tokenized inputs)\n",
    "cached_inputs = tokenizer(context, return_tensors=\"pt\")\n",
    "\n",
    "# Generate text using the loaded model\n",
    "start_time = time.time()\n",
    "with torch.no_grad():\n",
    "    outputs = model.generate(\n",
    "        cached_inputs['input_ids'],\n",
    "        max_new_tokens=20,\n",
    "        do_sample=True,\n",
    "        top_k=50,\n",
    "        temperature=0.7,\n",
    "        length_penalty=1.5\n",
    "    )\n",
    "print(f\"Model inference took {time.time() - start_time} seconds\")\n",
    "\n",
    "# Decode the generated tokens back into text\n",
    "generated_text = tokenizer.decode(outputs[0], skip_special_tokens=True)\n",
    "print(generated_text)\n",
    "\n",
    "# Check if more information is needed\n",
    "# if \"need more information\" in generated_text or \"clarify\" in generated_text:\n",
    "#     # Perform dynamic retrieval based on the generated text\n",
    "#     new_docs = dynamic_retrieval(generated_text, current_docs, vector_store)\n",
    "    \n",
    "#     if new_docs:\n",
    "#         # Update the context with new information\n",
    "#         current_docs += new_docs\n",
    "#         new_context = \" \" + \" \".join([doc.page_content[:300] for doc in new_docs[:2]])  # Update context, limit to 300 chars\n",
    "#         new_inputs = tokenizer(new_context, return_tensors=\"pt\")  # Only tokenize new part\n",
    "        \n",
    "#         # Combine cached inputs with newly tokenized inputs\n",
    "#         inputs['input_ids'] = torch.cat([cached_inputs['input_ids'], new_inputs['input_ids']], dim=1)\n",
    "\n",
    "#         # Generate more text using the updated context\n",
    "#         start_time = time.time()\n",
    "#         with torch.no_grad():\n",
    "#             outputs = model.generate(\n",
    "#                 inputs['input_ids'],\n",
    "#                 max_new_tokens=20,\n",
    "#                 do_sample=True,\n",
    "#                 top_k=50,\n",
    "#                 temperature=0.7,\n",
    "#                 length_penalty=1.5\n",
    "#             )\n",
    "#         print(f\"Model inference (second iteration) took {time.time() - start_time} seconds\")\n",
    "\n",
    "#         generated_text = tokenizer.decode(outputs[0], skip_special_tokens=True)\n",
    "#         print(generated_text)"
   ]
  }
 ],
 "metadata": {
  "kernelspec": {
   "display_name": "Python 3 (ipykernel)",
   "language": "python",
   "name": "python3"
  },
  "language_info": {
   "codemirror_mode": {
    "name": "ipython",
    "version": 3
   },
   "file_extension": ".py",
   "mimetype": "text/x-python",
   "name": "python",
   "nbconvert_exporter": "python",
   "pygments_lexer": "ipython3",
   "version": "3.8.10"
  }
 },
 "nbformat": 4,
 "nbformat_minor": 4
}
