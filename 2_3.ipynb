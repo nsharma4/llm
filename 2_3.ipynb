{
 "cells": [
  {
   "cell_type": "code",
   "execution_count": 1,
   "metadata": {},
   "outputs": [
    {
     "name": "stderr",
     "output_type": "stream",
     "text": [
      "/home/nealsharma/.local/lib/python3.8/site-packages/sentence_transformers/cross_encoder/CrossEncoder.py:11: TqdmExperimentalWarning: Using `tqdm.autonotebook.tqdm` in notebook mode. Use `tqdm.tqdm` instead to force console mode (e.g. in jupyter console)\n",
      "  from tqdm.autonotebook import tqdm, trange\n",
      "The cache for model files in Transformers v4.22.0 has been updated. Migrating your old cache. This is a one-time only operation. You can interrupt this and resume the migration later on by calling `transformers.utils.move_cache()`.\n"
     ]
    },
    {
     "data": {
      "application/vnd.jupyter.widget-view+json": {
       "model_id": "f82fe21b0b6545a1a311085acf29fa21",
       "version_major": 2,
       "version_minor": 0
      },
      "text/plain": [
       "0it [00:00, ?it/s]"
      ]
     },
     "metadata": {},
     "output_type": "display_data"
    },
    {
     "name": "stderr",
     "output_type": "stream",
     "text": [
      "[nltk_data] Downloading package wordnet to\n",
      "[nltk_data]     /home/nealsharma/nltk_data...\n",
      "[nltk_data]   Package wordnet is already up-to-date!\n"
     ]
    }
   ],
   "source": [
    "import os\n",
    "import pandas as pd\n",
    "from kaggle.api.kaggle_api_extended import KaggleApi\n",
    "from langchain.vectorstores import Chroma\n",
    "from langchain.embeddings import SentenceTransformerEmbeddings\n",
    "from sentence_transformers import SentenceTransformer\n",
    "from transformers import AutoModelForCausalLM, AutoTokenizer\n",
    "from langchain.docstore.document import Document\n",
    "from nltk.corpus import wordnet\n",
    "import torch\n",
    "\n",
    "# Ensure NLTK resources are downloaded\n",
    "import nltk\n",
    "nltk.download('wordnet')\n",
    "\n",
    "# Authenticate with the Kaggle API\n",
    "api = KaggleApi()\n",
    "api.authenticate()\n"
   ]
  },
  {
   "cell_type": "code",
   "execution_count": 2,
   "metadata": {},
   "outputs": [
    {
     "name": "stdout",
     "output_type": "stream",
     "text": [
      "Hugging Face cache at /home/nealsharma/.cache/huggingface has been cleared.\n"
     ]
    }
   ],
   "source": [
    "import os\n",
    "import shutil\n",
    "\n",
    "# Path to Hugging Face cache\n",
    "cache_dir = os.path.expanduser(\"~/.cache/huggingface\")\n",
    "\n",
    "# Check if the cache directory exists and delete it\n",
    "if os.path.exists(cache_dir):\n",
    "    shutil.rmtree(cache_dir)\n",
    "    print(f\"Hugging Face cache at {cache_dir} has been cleared.\")\n",
    "else:\n",
    "    print(\"Hugging Face cache is already cleared.\")\n"
   ]
  },
  {
   "cell_type": "code",
   "execution_count": 3,
   "metadata": {},
   "outputs": [
    {
     "name": "stdout",
     "output_type": "stream",
     "text": [
      "prune: 5 local object(s), 5 retained, done.                                     \n"
     ]
    }
   ],
   "source": [
    "# Prune Git LFS objects to free up space\n",
    "!git -C /home/nealsharma/llm/Mistral-7B-v0.1 lfs prune\n"
   ]
  },
  {
   "cell_type": "code",
   "execution_count": 4,
   "metadata": {},
   "outputs": [
    {
     "name": "stdout",
     "output_type": "stream",
     "text": [
      "Dataset URL: https://www.kaggle.com/datasets/asad1m9a9h6mood/news-articles\n"
     ]
    }
   ],
   "source": [
    "# Download the \"All The News\" dataset from Kaggle\n",
    "api.dataset_download_files('asad1m9a9h6mood/news-articles', path='data/', unzip=True)\n",
    "\n",
    "# Load and process the dataset\n",
    "file_path = 'data/Articles.csv'  # Adjust the path based on dataset name\n",
    "df = pd.read_csv(file_path, encoding='ISO-8859-1')\n"
   ]
  },
  {
   "cell_type": "code",
   "execution_count": 5,
   "metadata": {},
   "outputs": [],
   "source": [
    "# Convert documents into the required format for Chroma \n",
    "document_list = [\n",
    "    Document(\n",
    "        page_content=row['Article'],\n",
    "        metadata={\n",
    "            'date': row['Date'],\n",
    "            'heading': row['Heading'],\n",
    "            'news_type': row['NewsType']\n",
    "        }\n",
    "    )\n",
    "    for _, row in df.iterrows()\n",
    "]\n",
    "\n",
    "# NOTE Truncate document list because it takes too long to process\n",
    "max_length = 3\n",
    "if len(document_list) > max_length:\n",
    "    document_list = document_list[:max_length]\n"
   ]
  },
  {
   "cell_type": "code",
   "execution_count": 6,
   "metadata": {},
   "outputs": [
    {
     "name": "stderr",
     "output_type": "stream",
     "text": [
      "/tmp/ipykernel_2578/1247450238.py:4: LangChainDeprecationWarning: The class `HuggingFaceEmbeddings` was deprecated in LangChain 0.2.2 and will be removed in 1.0. An updated version of the class exists in the langchain-huggingface package and should be used instead. To use it run `pip install -U langchain-huggingface` and import as `from langchain_huggingface import HuggingFaceEmbeddings`.\n",
      "  embedding_function = SentenceTransformerEmbeddings(model_name = 'all-MiniLM-L6-v2')\n"
     ]
    },
    {
     "data": {
      "application/vnd.jupyter.widget-view+json": {
       "model_id": "bb4ff8b551f8414d899bc13db158ffe2",
       "version_major": 2,
       "version_minor": 0
      },
      "text/plain": [
       "modules.json:   0%|          | 0.00/349 [00:00<?, ?B/s]"
      ]
     },
     "metadata": {},
     "output_type": "display_data"
    },
    {
     "data": {
      "application/vnd.jupyter.widget-view+json": {
       "model_id": "1431c674bdd24570a23e25ffcdcd65db",
       "version_major": 2,
       "version_minor": 0
      },
      "text/plain": [
       "config_sentence_transformers.json:   0%|          | 0.00/116 [00:00<?, ?B/s]"
      ]
     },
     "metadata": {},
     "output_type": "display_data"
    },
    {
     "data": {
      "application/vnd.jupyter.widget-view+json": {
       "model_id": "42114deb09bc4a43b22fbbbc83f5b1d5",
       "version_major": 2,
       "version_minor": 0
      },
      "text/plain": [
       "README.md:   0%|          | 0.00/10.7k [00:00<?, ?B/s]"
      ]
     },
     "metadata": {},
     "output_type": "display_data"
    },
    {
     "data": {
      "application/vnd.jupyter.widget-view+json": {
       "model_id": "983b4d7130ef4e8bb2632ee04dd36c58",
       "version_major": 2,
       "version_minor": 0
      },
      "text/plain": [
       "sentence_bert_config.json:   0%|          | 0.00/53.0 [00:00<?, ?B/s]"
      ]
     },
     "metadata": {},
     "output_type": "display_data"
    },
    {
     "data": {
      "application/vnd.jupyter.widget-view+json": {
       "model_id": "dfa0d45067f04ad8a0e60f2b44ce63ff",
       "version_major": 2,
       "version_minor": 0
      },
      "text/plain": [
       "config.json:   0%|          | 0.00/612 [00:00<?, ?B/s]"
      ]
     },
     "metadata": {},
     "output_type": "display_data"
    },
    {
     "data": {
      "application/vnd.jupyter.widget-view+json": {
       "model_id": "e9c76d909a284043bf5064b35002e845",
       "version_major": 2,
       "version_minor": 0
      },
      "text/plain": [
       "model.safetensors:   0%|          | 0.00/90.9M [00:00<?, ?B/s]"
      ]
     },
     "metadata": {},
     "output_type": "display_data"
    },
    {
     "data": {
      "application/vnd.jupyter.widget-view+json": {
       "model_id": "d4182e42209e4ecabc6d03ce6642c226",
       "version_major": 2,
       "version_minor": 0
      },
      "text/plain": [
       "tokenizer_config.json:   0%|          | 0.00/350 [00:00<?, ?B/s]"
      ]
     },
     "metadata": {},
     "output_type": "display_data"
    },
    {
     "data": {
      "application/vnd.jupyter.widget-view+json": {
       "model_id": "9ff5d17e140543c3aa3db69a803fb8ba",
       "version_major": 2,
       "version_minor": 0
      },
      "text/plain": [
       "vocab.txt:   0%|          | 0.00/232k [00:00<?, ?B/s]"
      ]
     },
     "metadata": {},
     "output_type": "display_data"
    },
    {
     "data": {
      "application/vnd.jupyter.widget-view+json": {
       "model_id": "0bce43348b574657a153f293fbe46155",
       "version_major": 2,
       "version_minor": 0
      },
      "text/plain": [
       "tokenizer.json:   0%|          | 0.00/466k [00:00<?, ?B/s]"
      ]
     },
     "metadata": {},
     "output_type": "display_data"
    },
    {
     "data": {
      "application/vnd.jupyter.widget-view+json": {
       "model_id": "a6f21a334c5c424aa6005f0d1e1688a0",
       "version_major": 2,
       "version_minor": 0
      },
      "text/plain": [
       "special_tokens_map.json:   0%|          | 0.00/112 [00:00<?, ?B/s]"
      ]
     },
     "metadata": {},
     "output_type": "display_data"
    },
    {
     "name": "stderr",
     "output_type": "stream",
     "text": [
      "/home/nealsharma/.local/lib/python3.8/site-packages/transformers/tokenization_utils_base.py:1601: FutureWarning: `clean_up_tokenization_spaces` was not set. It will be set to `True` by default. This behavior will be depracted in transformers v4.45, and will be then set to `False` by default. For more details check this issue: https://github.com/huggingface/transformers/issues/31884\n",
      "  warnings.warn(\n"
     ]
    },
    {
     "data": {
      "application/vnd.jupyter.widget-view+json": {
       "model_id": "304f934d0649421eb2dee4fba3191106",
       "version_major": 2,
       "version_minor": 0
      },
      "text/plain": [
       "1_Pooling/config.json:   0%|          | 0.00/190 [00:00<?, ?B/s]"
      ]
     },
     "metadata": {},
     "output_type": "display_data"
    }
   ],
   "source": [
    "# Initialize the SentenceTransformer and Chroma vectorstore\n",
    "# Embed documents using SentenceTransformer\n",
    "\n",
    "embedding_function = SentenceTransformerEmbeddings(model_name = 'all-MiniLM-L6-v2')\n",
    "\n",
    "# Create a vector store using Chroma\n",
    "vector_store = Chroma.from_documents(document_list, embedding_function)\n"
   ]
  },
  {
   "cell_type": "code",
   "execution_count": 7,
   "metadata": {},
   "outputs": [],
   "source": [
    "# Function to expand the query using WordNet\n",
    "def expand_query_with_synonyms(query):\n",
    "    synonyms = set()\n",
    "    for word in query.split():\n",
    "        for syn in wordnet.synsets(word):\n",
    "            for lemma in syn.lemmas():\n",
    "                synonyms.add(lemma.name())\n",
    "    expanded_query = query + \" \" + \" \".join(synonyms)\n",
    "    return expanded_query"
   ]
  },
  {
   "cell_type": "code",
   "execution_count": 8,
   "metadata": {},
   "outputs": [],
   "source": [
    "# Start of 2.3\n",
    "\n",
    "# Helper function to dynamically retrieve more information\n",
    "def dynamic_retrieval(query, docs, vector_store):\n",
    "    \"\"\"\n",
    "    Function to dynamically retrieve more documents based on the query and the current documents.\n",
    "    This allows the model to ask for more information if necessary during generation.\n",
    "    \n",
    "    Args:\n",
    "    - query: The current query or prompt being used.\n",
    "    - docs: List of documents already retrieved, to avoid redundancy.\n",
    "    - vector_store: The vector store used to perform the retrieval.\n",
    "    \n",
    "    Returns:\n",
    "    - List of newly retrieved documents.\n",
    "    \"\"\"\n",
    "    # Perform dynamic retrieval using vector_store and filtering out already retrieved documents\n",
    "    new_docs = vector_store.similarity_search(query, top_k=10)  # Retrieve top 10 similar documents\n",
    "    \n",
    "    # Filter out already retrieved documents by comparing metadata (e.g., 'heading')\n",
    "    retrieved_docs = {doc.metadata['heading'] for doc in docs}  # Adjust to your unique document key\n",
    "    unique_new_docs = [doc for doc in new_docs if doc.metadata['heading'] not in retrieved_docs]\n",
    "    \n",
    "    return unique_new_docs\n",
    "\n"
   ]
  },
  {
   "cell_type": "code",
   "execution_count": 9,
   "metadata": {},
   "outputs": [],
   "source": [
    "# Function to iteratively generate text and dynamically retrieve more info if needed\n",
    "def generate_with_dynamic_retrieval(prompt, vector_store, model, tokenizer, max_iterations=3):\n",
    "    \"\"\"\n",
    "    Generate a response while dynamically retrieving more information as needed.\n",
    "    The model will iteratively request more documents if gaps or ambiguities are detected.\n",
    "    \"\"\"\n",
    "    expanded_query = expand_query_with_synonyms(prompt)\n",
    "    current_docs = vector_store.similarity_search(expanded_query, k=5)  # Initial retrieval\n",
    "    generation = \"\"\n",
    "    context = \" \".join([doc.page_content for doc in current_docs[:2]])  # Limiting to top 2 documents\n",
    "    \n",
    "    for i in range(max_iterations):\n",
    "        # Tokenize the current context\n",
    "        inputs = tokenizer(context, return_tensors=\"pt\")\n",
    "        \n",
    "        # Generate text using the loaded model\n",
    "        with torch.no_grad():  # Disables gradient computation for faster inference\n",
    "            outputs = model.generate(\n",
    "                inputs['input_ids'],\n",
    "                #attention_mask=inputs['attention_mask'],\n",
    "                max_new_tokens=50,  # Generate up to 100 new tokens\n",
    "                do_sample=True,      # Enable sampling for more varied results\n",
    "                top_k=50,            # Limit the sampling to the top 50 tokens\n",
    "                temperature=0.7,      # Control the randomness (higher = more random)\n",
    "                length_penalty=1.5  # Discourages very long outputs\n",
    "            )\n",
    "\n",
    "        generated_text = tokenizer.decode(outputs[0], skip_special_tokens=True)\n",
    "\n",
    "        # Append generated text to the ongoing generation\n",
    "        generation += generated_text\n",
    "        \n",
    "        # Check if there are ambiguities or gaps in the generated text (trigger more retrieval)\n",
    "        if \"need more information\" in generated_text or \"clarify\" in generated_text:\n",
    "            # Dynamically retrieve more documents based on the generated content\n",
    "            new_docs = dynamic_retrieval(generated_text, current_docs, vector_store)\n",
    "            current_docs += new_docs  # Add newly retrieved documents to the context\n",
    "            context += \" \" + \" \".join([doc.page_content for doc in new_docs[:2]])  # Update the context\n",
    "        else:\n",
    "            break  # Exit if no more information is needed\n",
    "\n",
    "    return generation\n"
   ]
  },
  {
   "cell_type": "code",
   "execution_count": 10,
   "metadata": {},
   "outputs": [],
   "source": [
    "# Expand the initial query\n",
    "query = \"Tell me about what the news in Karachi is  mostly about\""
   ]
  },
  {
   "cell_type": "code",
   "execution_count": 11,
   "metadata": {},
   "outputs": [
    {
     "data": {
      "application/vnd.jupyter.widget-view+json": {
       "model_id": "125f69774d5140d2bcad4505289c433f",
       "version_major": 2,
       "version_minor": 0
      },
      "text/plain": [
       "Loading checkpoint shards:   0%|          | 0/2 [00:00<?, ?it/s]"
      ]
     },
     "metadata": {},
     "output_type": "display_data"
    },
    {
     "name": "stderr",
     "output_type": "stream",
     "text": [
      "Some parameters are on the meta device because they were offloaded to the disk and cpu.\n"
     ]
    }
   ],
   "source": [
    "# Set the correct model path\n",
    "model_path = \"/home/nealsharma/llm/Mistral-7B-v0.1\"\n",
    "\n",
    "# Load the model and tokenizer\n",
    "model = AutoModelForCausalLM.from_pretrained(model_path, device_map=\"auto\")\n",
    "tokenizer = AutoTokenizer.from_pretrained(model_path)"
   ]
  },
  {
   "cell_type": "code",
   "execution_count": null,
   "metadata": {},
   "outputs": [
    {
     "name": "stderr",
     "output_type": "stream",
     "text": [
      "Number of requested results 5 is greater than number of elements in index 3, updating n_results = 3\n",
      "/home/nealsharma/.local/lib/python3.8/site-packages/transformers/generation/configuration_utils.py:634: UserWarning: `num_beams` is set to 1. However, `length_penalty` is set to `1.5` -- this flag is only used in beam-based generation modes. You should set `num_beams>1` or unset `length_penalty`.\n",
      "  warnings.warn(\n",
      "The attention mask and the pad token id were not set. As a consequence, you may observe unexpected behavior. Please pass your input's `attention_mask` to obtain reliable results.\n",
      "Setting `pad_token_id` to `eos_token_id`:2 for open-end generation.\n",
      "The attention mask is not set and cannot be inferred from input because pad token is same as eos token. As a consequence, you may observe unexpected behavior. Please pass your input's `attention_mask` to obtain reliable results.\n"
     ]
    }
   ],
   "source": [
    "# Generate text with dynamic retrieval\n",
    "response = generate_with_dynamic_retrieval(query, vector_store, model, tokenizer)\n",
    "print(response)\n"
   ]
  }
 ],
 "metadata": {
  "kernelspec": {
   "display_name": "Python 3 (ipykernel)",
   "language": "python",
   "name": "python3"
  },
  "language_info": {
   "codemirror_mode": {
    "name": "ipython",
    "version": 3
   },
   "file_extension": ".py",
   "mimetype": "text/x-python",
   "name": "python",
   "nbconvert_exporter": "python",
   "pygments_lexer": "ipython3",
   "version": "3.8.10"
  }
 },
 "nbformat": 4,
 "nbformat_minor": 4
}
