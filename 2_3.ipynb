{
 "cells": [
  {
   "cell_type": "code",
   "execution_count": 1,
   "metadata": {},
   "outputs": [],
   "source": [
    "import os\n",
    "import pandas as pd\n",
    "from kaggle.api.kaggle_api_extended import KaggleApi\n",
    "from langchain.vectorstores import Chroma\n",
    "from langchain.embeddings import SentenceTransformerEmbeddings\n",
    "from sentence_transformers import SentenceTransformer\n",
    "from transformers import AutoModelForCausalLM, AutoTokenizer\n",
    "from langchain.docstore.document import Document\n",
    "from nltk.corpus import wordnet\n",
    "import torch\n",
    "\n",
    "# Ensure NLTK resources are downloaded\n",
    "import nltk\n",
    "nltk.download('wordnet')\n",
    "\n",
    "# Authenticate with the Kaggle API\n",
    "api = KaggleApi()\n",
    "api.authenticate()\n"
   ]
  },
  {
   "cell_type": "code",
   "execution_count": null,
   "metadata": {},
   "outputs": [],
   "source": [
    "# Download the \"All The News\" dataset from Kaggle\n",
    "api.dataset_download_files('asad1m9a9h6mood/news-articles', path='data/', unzip=True)\n",
    "\n",
    "# Load and process the dataset\n",
    "file_path = 'data/Articles.csv'  # Adjust the path based on dataset name\n",
    "df = pd.read_csv(file_path, encoding='ISO-8859-1')\n"
   ]
  },
  {
   "cell_type": "code",
   "execution_count": 4,
   "metadata": {},
   "outputs": [],
   "source": [
    "# Convert documents into the required format for Chroma \n",
    "document_list = [\n",
    "    Document(\n",
    "        page_content=row['Article'],\n",
    "        metadata={\n",
    "            'date': row['Date'],\n",
    "            'heading': row['Heading'],\n",
    "            'news_type': row['NewsType']\n",
    "        }\n",
    "    )\n",
    "    for _, row in df.iterrows()\n",
    "]\n",
    "\n",
    "# NOTE Truncate document list because it takes too long to process\n",
    "max_length = 1000\n",
    "if len(document_list) > max_length:\n",
    "    document_list = document_list[:max_length]\n"
   ]
  },
  {
   "cell_type": "code",
   "execution_count": null,
   "metadata": {},
   "outputs": [],
   "source": [
    "# Initialize the SentenceTransformer and Chroma vectorstore\n",
    "# Embed documents using SentenceTransformer\n",
    "embedding_model = SentenceTransformer('sentence-transformers/all-mpnet-base-v2')\n",
    "embedding_function = SentenceTransformerEmbeddings(embedding_model)\n",
    "\n",
    "# Create a vector store using Chroma\n",
    "vector_store = Chroma.from_documents(document_list, embedding_function)\n"
   ]
  },
  {
   "cell_type": "code",
   "execution_count": null,
   "metadata": {},
   "outputs": [],
   "source": [
    "# Function to expand the query using WordNet\n",
    "def expand_query_with_synonyms(query):\n",
    "    synonyms = set()\n",
    "    for word in query.split():\n",
    "        for syn in wordnet.synsets(word):\n",
    "            for lemma in syn.lemmas():\n",
    "                synonyms.add(lemma.name())\n",
    "    expanded_query = query + \" \" + \" \".join(synonyms)\n",
    "    return expanded_query"
   ]
  },
  {
   "cell_type": "code",
   "execution_count": 6,
   "metadata": {},
   "outputs": [],
   "source": [
    "# Start of 2.3\n",
    "\n",
    "# Helper function to dynamically retrieve more information\n",
    "def dynamic_retrieval(query, docs, vector_store):\n",
    "    \"\"\"\n",
    "    Function to dynamically retrieve more documents based on the query and the current documents.\n",
    "    This allows the model to ask for more information if necessary during generation.\n",
    "    \n",
    "    Args:\n",
    "    - query: The current query or prompt being used.\n",
    "    - docs: List of documents already retrieved, to avoid redundancy.\n",
    "    - vector_store: The vector store used to perform the retrieval.\n",
    "    \n",
    "    Returns:\n",
    "    - List of newly retrieved documents.\n",
    "    \"\"\"\n",
    "    # Perform dynamic retrieval using vector_store and filtering out already retrieved documents\n",
    "    new_docs = vector_store.similarity_search(query, top_k=10)  # Retrieve top 10 similar documents\n",
    "    \n",
    "    # Filter out already retrieved documents by comparing metadata (e.g., 'heading')\n",
    "    retrieved_docs = {doc.metadata['heading'] for doc in docs}  # Adjust to your unique document key\n",
    "    unique_new_docs = [doc for doc in new_docs if doc.metadata['heading'] not in retrieved_docs]\n",
    "    \n",
    "    return unique_new_docs\n",
    "\n"
   ]
  },
  {
   "cell_type": "code",
   "execution_count": null,
   "metadata": {},
   "outputs": [],
   "source": [
    "# Function to iteratively generate text and dynamically retrieve more info if needed\n",
    "def generate_with_dynamic_retrieval(prompt, vector_store, model, tokenizer, max_iterations=3):\n",
    "    \"\"\"\n",
    "    Generate a response while dynamically retrieving more information as needed.\n",
    "    The model will iteratively request more documents if gaps or ambiguities are detected.\n",
    "    \"\"\"\n",
    "    expanded_query = expand_query_with_synonyms(prompt)\n",
    "    current_docs = vector_store.similarity_search(expanded_query, k=5)  # Initial retrieval\n",
    "    generation = \"\"\n",
    "    context = \" \".join([doc.page_content for doc in current_docs[:2]])  # Limiting to top 2 documents\n",
    "    \n",
    "    for i in range(max_iterations):\n",
    "        # Tokenize the current context\n",
    "        inputs = tokenizer(context, return_tensors=\"pt\")\n",
    "        \n",
    "        # Generate text using the loaded model\n",
    "        with torch.no_grad():  # Disables gradient computation for faster inference\n",
    "            outputs = model.generate(\n",
    "                inputs['input_ids'],\n",
    "                #attention_mask=inputs['attention_mask'],\n",
    "                max_new_tokens=50,  # Generate up to 100 new tokens\n",
    "                do_sample=True,      # Enable sampling for more varied results\n",
    "                top_k=50,            # Limit the sampling to the top 50 tokens\n",
    "                temperature=0.7,      # Control the randomness (higher = more random)\n",
    "                length_penalty=1.5  # Discourages very long outputs\n",
    "            )\n",
    "\n",
    "        generated_text = tokenizer.decode(outputs[0], skip_special_tokens=True)\n",
    "\n",
    "        # Append generated text to the ongoing generation\n",
    "        generation += generated_text\n",
    "        \n",
    "        # Check if there are ambiguities or gaps in the generated text (trigger more retrieval)\n",
    "        if \"need more information\" in generated_text or \"clarify\" in generated_text:\n",
    "            # Dynamically retrieve more documents based on the generated content\n",
    "            new_docs = dynamic_retrieval(generated_text, current_docs, vector_store)\n",
    "            current_docs += new_docs  # Add newly retrieved documents to the context\n",
    "            context += \" \" + \" \".join([doc.page_content for doc in new_docs[:2]])  # Update the context\n",
    "        else:\n",
    "            break  # Exit if no more information is needed\n",
    "\n",
    "    return generation\n"
   ]
  },
  {
   "cell_type": "code",
   "execution_count": null,
   "metadata": {},
   "outputs": [],
   "source": [
    "# Expand the initial query\n",
    "query = \"Tell me about what the news in Karachi is  mostly about\""
   ]
  },
  {
   "cell_type": "code",
   "execution_count": 8,
   "metadata": {},
   "outputs": [],
   "source": [
    "# Set the correct model path\n",
    "model_path = \"/home/nealsharma/llm/Mistral-7B-v0.1\"\n",
    "\n",
    "# Load the model and tokenizer\n",
    "model = AutoModelForCausalLM.from_pretrained(model_path, device_map=\"auto\")\n",
    "tokenizer = AutoTokenizer.from_pretrained(model_path)"
   ]
  },
  {
   "cell_type": "code",
   "execution_count": 7,
   "metadata": {},
   "outputs": [],
   "source": [
    "# Generate text with dynamic retrieval\n",
    "response = generate_with_dynamic_retrieval(query, vector_store, model, tokenizer)\n",
    "print(response)\n"
   ]
  }
 ],
 "metadata": {
  "kernelspec": {
   "display_name": "Python 3 (ipykernel)",
   "language": "python",
   "name": "python3"
  },
  "language_info": {
   "codemirror_mode": {
    "name": "ipython",
    "version": 3
   },
   "file_extension": ".py",
   "mimetype": "text/x-python",
   "name": "python",
   "nbconvert_exporter": "python",
   "pygments_lexer": "ipython3",
   "version": "3.12.4"
  }
 },
 "nbformat": 4,
 "nbformat_minor": 4
}
