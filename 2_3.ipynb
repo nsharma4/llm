{
 "cells": [
  {
   "cell_type": "code",
   "execution_count": null,
   "metadata": {},
   "outputs": [],
   "source": [
    "import os\n",
    "import pandas as pd\n",
    "from kaggle.api.kaggle_api_extended import KaggleApi\n",
    "from langchain.vectorstores import Chroma\n",
    "from langchain.embeddings import SentenceTransformerEmbeddings\n",
    "from sentence_transformers import SentenceTransformer\n",
    "from transformers import AutoModelForCausalLM, AutoTokenizer\n",
    "from langchain.docstore.document import Document\n",
    "from nltk.corpus import wordnet\n",
    "import torch\n",
    "\n",
    "# # Ensure NLTK resources are downloaded\n",
    "# nltk.download('wordnet')\n",
    "\n",
    "# Authenticate with the Kaggle API\n",
    "api = KaggleApi()\n",
    "api.authenticate()\n"
   ]
  },
  {
   "cell_type": "code",
   "execution_count": null,
   "metadata": {},
   "outputs": [],
   "source": [
    "import os\n",
    "import shutil\n",
    "\n",
    "# Path to Hugging Face cache\n",
    "cache_dir = os.path.expanduser(\"~/.cache/huggingface\")\n",
    "\n",
    "# Check if the cache directory exists and delete it\n",
    "if os.path.exists(cache_dir):\n",
    "    shutil.rmtree(cache_dir)\n",
    "    print(f\"Hugging Face cache at {cache_dir} has been cleared.\")\n",
    "else:\n",
    "    print(\"Hugging Face cache is already cleared.\")\n"
   ]
  },
  {
   "cell_type": "code",
   "execution_count": null,
   "metadata": {},
   "outputs": [],
   "source": [
    "# Prune Git LFS objects to free up space\n",
    "!git -C /home/nealsharma/llm/Mistral-7B-v0.1 lfs prune\n"
   ]
  },
  {
   "cell_type": "code",
   "execution_count": null,
   "metadata": {},
   "outputs": [],
   "source": [
    "# Download the \"All The News\" dataset from Kaggle\n",
    "api.dataset_download_files('asad1m9a9h6mood/news-articles', path='data/', unzip=True)\n",
    "\n",
    "# Load and process the dataset\n",
    "file_path = 'data/Articles.csv'  # Adjust the path based on dataset name\n",
    "df = pd.read_csv(file_path, encoding='ISO-8859-1')\n"
   ]
  },
  {
   "cell_type": "code",
   "execution_count": 5,
   "metadata": {},
   "outputs": [],
   "source": [
    "# Convert documents into the required format for Chroma \n",
    "document_list = [\n",
    "    Document(\n",
    "        page_content=row['Article'],\n",
    "        metadata={\n",
    "            'date': row['Date'],\n",
    "            'heading': row['Heading'],\n",
    "            'news_type': row['NewsType']\n",
    "        }\n",
    "    )\n",
    "    for _, row in df.iterrows()\n",
    "]\n",
    "\n",
    "# NOTE Truncate document list because it takes too long to process\n",
    "max_length = 10\n",
    "if len(document_list) > max_length:\n",
    "    document_list = document_list[:max_length]\n"
   ]
  },
  {
   "cell_type": "code",
   "execution_count": null,
   "metadata": {},
   "outputs": [],
   "source": [
    "# Initialize the SentenceTransformer and Chroma vectorstore\n",
    "# Embed documents using SentenceTransformer\n",
    "\n",
    "embedding_function = SentenceTransformerEmbeddings(model_name = 'all-MiniLM-L6-v2')\n",
    "\n",
    "# Create a vector store using Chroma\n",
    "vector_store = Chroma.from_documents(document_list, embedding_function)\n"
   ]
  },
  {
   "cell_type": "code",
   "execution_count": 7,
   "metadata": {},
   "outputs": [],
   "source": [
    "def expand_query(query):\n",
    "    expanded_terms = []\n",
    "    for word in query.split():\n",
    "        synsets = wordnet.synsets(word)\n",
    "        if synsets:\n",
    "            expanded_terms.extend([lemma.name() for lemma in synsets[0].lemmas()])\n",
    "    return \" \".join(set(query.split() + expanded_terms))\n",
    "\n",
    "def dynamic_retrieval(query, docs, vector_store, k=2):\n",
    "    expanded_query = expand_query(query)\n",
    "    new_docs = vector_store.similarity_search(expanded_query, k=k)\n",
    "    retrieved_docs = {doc.metadata['heading'] for doc in docs}\n",
    "    unique_new_docs = [doc for doc in new_docs if doc.metadata['heading'] not in retrieved_docs]\n",
    "    return unique_new_docs\n"
   ]
  },
  {
   "cell_type": "code",
   "execution_count": null,
   "metadata": {},
   "outputs": [],
   "source": [
    "# Set the correct model path\n",
    "model_path = \"/home/nealsharma/llm/Mistral-7B-v0.1\"\n",
    "\n",
    "# Load the model and tokenizer\n",
    "model = AutoModelForCausalLM.from_pretrained(model_path, device_map=\"auto\", torch_dtype=torch.bfloat16)\n",
    "tokenizer = AutoTokenizer.from_pretrained(model_path)"
   ]
  },
  {
   "cell_type": "code",
   "execution_count": 9,
   "metadata": {},
   "outputs": [],
   "source": [
    "# Expand the initial query\n",
    "query = \"Tell me about what the news in Karachi is based on what you know\"\n",
    "\n",
    "# Initial document retrieval using the query\n",
    "current_docs = vector_store.similarity_search(query, k=2)\n",
    "context = \" \".join([doc.page_content for doc in current_docs])\n",
    "\n",
    "# Caching tokenized context to avoid re-tokenization\n",
    "cached_inputs = tokenizer(context, return_tensors=\"pt\")"
   ]
  },
  {
   "cell_type": "code",
   "execution_count": null,
   "metadata": {},
   "outputs": [],
   "source": [
    "max_iterations = 3\n",
    "for i in range(max_iterations):\n",
    "    # Generate text\n",
    "    with torch.no_grad():\n",
    "        outputs = model.generate(\n",
    "            cached_inputs['input_ids'],\n",
    "            max_new_tokens=40,\n",
    "            do_sample=True,\n",
    "            top_k=50,\n",
    "            top_p=0.95,\n",
    "            temperature=0.7,\n",
    "            length_penalty=1.5\n",
    "        )\n",
    "    \n",
    "    generated_text = tokenizer.decode(outputs[0], skip_special_tokens=True)\n",
    "    print(f\"Iteration {i+1} generated text:\\n{generated_text}\\n\")\n",
    "    \n",
    "    # Check if more information is needed\n",
    "    if len(generated_text.split()) < 20 or \"need more information\" in generated_text.lower():\n",
    "        new_docs = dynamic_retrieval(generated_text, current_docs, vector_store, k=2)\n",
    "        if new_docs:\n",
    "            current_docs += new_docs\n",
    "            new_context = \" \".join([doc.page_content for doc in new_docs])\n",
    "            context += \" \" + new_context\n",
    "            cached_inputs = tokenizer(context, return_tensors=\"pt\")\n",
    "        else:\n",
    "            print(\"No new relevant information found. Ending generation.\")\n",
    "            break\n",
    "    else:\n",
    "        print(\"Sufficient information generated. Ending generation.\")\n",
    "        break\n",
    "\n",
    "# Cell 10: Clean up (optional)\n",
    "del model\n",
    "torch.cuda.empty_cache()"
   ]
  }
 ],
 "metadata": {
  "kernelspec": {
   "display_name": "Python 3 (ipykernel)",
   "language": "python",
   "name": "python3"
  },
  "language_info": {
   "codemirror_mode": {
    "name": "ipython",
    "version": 3
   },
   "file_extension": ".py",
   "mimetype": "text/x-python",
   "name": "python",
   "nbconvert_exporter": "python",
   "pygments_lexer": "ipython3",
   "version": "3.12.4"
  }
 },
 "nbformat": 4,
 "nbformat_minor": 4
}
