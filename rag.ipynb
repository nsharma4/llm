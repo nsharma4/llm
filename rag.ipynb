{
 "cells": [
  {
   "cell_type": "code",
   "execution_count": 12,
   "metadata": {},
   "outputs": [
    {
     "name": "stdout",
     "output_type": "stream",
     "text": [
      "Dataset URL: https://www.kaggle.com/datasets/asad1m9a9h6mood/news-articles\n"
     ]
    }
   ],
   "source": [
    "import os\n",
    "import pandas as pd\n",
    "from kaggle.api.kaggle_api_extended import KaggleApi\n",
    "from langchain.vectorstores import Chroma\n",
    "from langchain.embeddings import SentenceTransformerEmbeddings\n",
    "from sentence_transformers import SentenceTransformer\n",
    "from transformers import pipeline\n",
    "from langchain.docstore.document import Document\n"
   ]
  },
  {
   "cell_type": "code",
   "execution_count": null,
   "metadata": {},
   "outputs": [],
   "source": [
    "# Step 1: Authenticate with the Kaggle API\n",
    "api = KaggleApi()\n",
    "api.authenticate()\n",
    "\n",
    "# Download the dataset (e.g., \"All the News\" dataset)\n",
    "api.dataset_download_files('asad1m9a9h6mood/news-articles', path='data/', unzip=True)\n"
   ]
  },
  {
   "cell_type": "code",
   "execution_count": 14,
   "metadata": {},
   "outputs": [
    {
     "name": "stdout",
     "output_type": "stream",
     "text": [
      "Index(['Article', 'Date', 'Heading', 'NewsType'], dtype='object')\n"
     ]
    }
   ],
   "source": [
    "\n",
    "# Step 2: Load and Process the Dataset\n",
    "file_path = 'data/Articles.csv'  # path based on dataset name\n",
    "df = pd.read_csv(file_path, encoding='ISO-8859-1')\n",
    "print(df.columns)\n",
    "\n",
    "# Extract the content (text) column from the dataset\n",
    "documents = df['Article'].dropna().tolist()\n",
    "\n",
    "\n",
    "# Convert documents into the required format for Chroma\n",
    "document_list = [\n",
    "    Document(\n",
    "        page_content=row['Article'],\n",
    "        metadata={\n",
    "            'date': row['Date'],\n",
    "            'heading': row['Heading'],\n",
    "            'news_type': row['NewsType']\n",
    "        }\n",
    "    )\n",
    "    for _, row in df.iterrows()\n",
    "]"
   ]
  },
  {
   "cell_type": "code",
   "execution_count": 17,
   "metadata": {},
   "outputs": [
    {
     "name": "stderr",
     "output_type": "stream",
     "text": [
      "c:\\Users\\neals\\AppData\\Local\\Programs\\Python\\Python312\\Lib\\site-packages\\transformers\\tokenization_utils_base.py:1601: FutureWarning: `clean_up_tokenization_spaces` was not set. It will be set to `True` by default. This behavior will be depracted in transformers v4.45, and will be then set to `False` by default. For more details check this issue: https://github.com/huggingface/transformers/issues/31884\n",
      "  warnings.warn(\n"
     ]
    }
   ],
   "source": [
    "# Step 3: Embed Documents\n",
    "embedder = SentenceTransformer('all-MiniLM-L6-v2')\n",
    "embeddings = SentenceTransformerEmbeddings(model_name='all-MiniLM-L6-v2')\n",
    "\n",
    "#Truncate document list because it takes too long to process\n",
    "if len(document_list) > 1000:\n",
    "    document_list = document_list[:1000]\n",
    "\n",
    "# Create a vector store using Chroma\n",
    "vector_store = Chroma.from_documents(document_list, embeddings)\n",
    "\n",
    "\n"
   ]
  },
  {
   "cell_type": "code",
   "execution_count": 21,
   "metadata": {},
   "outputs": [
    {
     "name": "stderr",
     "output_type": "stream",
     "text": [
      "Setting `pad_token_id` to `eos_token_id`:50256 for open-end generation.\n"
     ]
    },
    {
     "name": "stdout",
     "output_type": "stream",
     "text": [
      "Generated Response: strong>WASHINGTON: International Monetary Fund chief Christine Lagarde said that Britain´s shock vote to quit the European Union has injected significant uncertainty into the global economy but is unlikely to cause a world recession.</strongBut in an exclusive interview with AFP, she also said that Brexit underscores the need for the EU to do a better explaining how it benefits Europeans, amid \"disenchantment\" with the institution.And she said that Britain´s move to cut corporate taxes to counter the expected economic fallout from its choice to break with the EU was just a \"race to the bottom\" that could hurt everyone.Two weeks after the British referendum on cutting its EU ties, Lagarde, speaking in her Washington offices at the beginning of her second five year term as IMF managing director, called the event a \"major downside risk\" for the world.\"We don´t think that a global recession is very likely. The immediate effects will be on the UK,\" with some spillover into the euro area, she said.Yet the longer the process for Britain´s withdrawal remains unclear, the worse the effects could be, she said.\"The key word about this Brexit affair is uncertainty and the longer the uncertainty, the higher the risk,\" she said.\"The sooner they can resolve their timeline and the terms of their departure the better for all. It needs to be predictable as soon as possible.\"But Lagarde, who during her first five years leading the Fund has already endured a substantial amount of turmoil in Europe, said she remained positive over the outcome.\"There will be spillover effects on the euro area. But my optimistic approach of life tells me that Brexit could be a catalyst that could push the EU to deepen its economic integration.\" BERLIN: Demonstrators took to the streets across Germany on Saturday in protest over a massive transatlantic trade deal, dealing a new blow to the disputed accord.In Berlin, as in Munich, there was a sea of flags as people flocked to join the rallies despite the rain, carrying placards and banners representing dozens of anti-globalisation groups, NGOs, political parties and unions, AFP correspondents said.\"People are not letting their mood be ruined\" by the weather, a spokeswoman for the organisers, Kathrin Ottovay, told AFP.Roland Suess from anti-globalisation group Attac had earlier told AFP they expected 250,000 people to turn out in seven major German cities -- including around 80,000 in Berlin.Participants waved banners demanding \"democracy instead of TTIP\" and \"share, don´t divide.\"The European Union and the United States began negotiating the Transatlantic Trade and Investment Partnership (TTIP) in 2013, aiming to create the world´s biggest free trade market of 850 million consumers.A new round of talks is due to start in October and US President Barack Obama wants the deal concluded before he leaves office in January.A smaller version of TTIP is also in the works with Canada, and that deal, called CETA, is due to be signed in October.Exporters are in favour of the deal as it promises lower tariffs, less red tape and a wider base of consumers for their goods.But the negotiations have faced opposition in Europe, where consumers fear it would ride roughshod over the 28-nation bloc´s labour market and environmental standards, and lead to more outsourcing and thereby job losses.Another prickly issue is the plans for a special court to hear cases by companies against governments over breaches of regulatory issues, which opponents see as giving firms a veto over public policy.The European Commission says it is confident of its judgement when it is formally asked in July to take legal action.EU diplomats have called for a review by European high court judges to decide whether this is necessary or not.They say the issue will be decided by local judges.\"I think it does need a review now,\" Lagarde said, but cautioned that \"we´re not there yet\".On Thursday, the Commission sent a final report to Prime Minister Benjamin Netanyahu asking whether it was necessary. It is\n"
     ]
    }
   ],
   "source": [
    "# Step 4: Query the Vector Store\n",
    "query = \"Tell me about what most likely happens in the news for Sweden\"\n",
    "retrieved_docs = vector_store.similarity_search(query, k=2)\n",
    "\n",
    "# Step 5: Generate a Response Using Retrieved Documents as Context\n",
    "context = \" \".join([doc.page_content for doc in retrieved_docs])\n",
    "\n",
    "\n",
    "# Use an LLM for response generation, in this case GPT2\n",
    "llm = pipeline(\"text-generation\", model=\"gpt2\")  # Replace with another model if needed\n",
    "response = llm(context, max_new_tokens=100, do_sample=True, top_k=50)[0]['generated_text']\n",
    "\n",
    "print(f\"Generated Response: {response}\")\n"
   ]
  },
  {
   "cell_type": "markdown",
   "metadata": {},
   "source": []
  }
 ],
 "metadata": {
  "kernelspec": {
   "display_name": "Python 3",
   "language": "python",
   "name": "python3"
  },
  "language_info": {
   "codemirror_mode": {
    "name": "ipython",
    "version": 3
   },
   "file_extension": ".py",
   "mimetype": "text/x-python",
   "name": "python",
   "nbconvert_exporter": "python",
   "pygments_lexer": "ipython3",
   "version": "3.12.4"
  }
 },
 "nbformat": 4,
 "nbformat_minor": 2
}
