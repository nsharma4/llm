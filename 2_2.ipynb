{
 "cells": [
  {
   "cell_type": "code",
   "execution_count": null,
   "metadata": {},
   "outputs": [],
   "source": [
    "import os\n",
    "import pandas as pd\n",
    "from kaggle.api.kaggle_api_extended import KaggleApi\n",
    "from langchain.vectorstores import Chroma\n",
    "from langchain.embeddings import SentenceTransformerEmbeddings\n",
    "from sentence_transformers import SentenceTransformer\n",
    "from transformers import pipeline\n",
    "from langchain.docstore.document import Document\n",
    "from nltk.corpus import wordnet\n",
    "\n",
    "# Ensure NLTK resources are downloaded\n",
    "import nltk\n",
    "nltk.download('wordnet')\n",
    "\n",
    "# Authenticate with the Kaggle API\n",
    "api = KaggleApi()\n",
    "api.authenticate()\n"
   ]
  },
  {
   "cell_type": "code",
   "execution_count": null,
   "metadata": {},
   "outputs": [],
   "source": [
    "# Download the \"All The News\" dataset from Kaggle\n",
    "api.dataset_download_files('asad1m9a9h6mood/news-articles', path='data/', unzip=True)\n",
    "\n",
    "# Load and process the dataset\n",
    "file_path = 'data/Articles.csv'  # Adjust the path based on dataset name\n",
    "df = pd.read_csv(file_path, encoding='ISO-8859-1')\n"
   ]
  },
  {
   "cell_type": "code",
   "execution_count": null,
   "metadata": {},
   "outputs": [],
   "source": [
    "# Convert documents into the required format for Chroma \n",
    "document_list = [\n",
    "    Document(\n",
    "        page_content=row['Article'],\n",
    "        metadata={\n",
    "            'date': row['Date'],\n",
    "            'heading': row['Heading'],\n",
    "            'news_type': row['NewsType']\n",
    "        }\n",
    "    )\n",
    "    for _, row in df.iterrows()\n",
    "]\n",
    "\n",
    "# TODO Truncate document list because it takes too long to process\n",
    "if len(document_list) > 1000:\n",
    "    document_list = document_list[:1000]\n"
   ]
  },
  {
   "cell_type": "code",
   "execution_count": null,
   "metadata": {},
   "outputs": [],
   "source": [
    "# Embed documents using SentenceTransformer\n",
    "embedder = SentenceTransformer('all-MiniLM-L6-v2')\n",
    "embeddings = SentenceTransformerEmbeddings(model_name='all-MiniLM-L6-v2')\n",
    "\n",
    "# Create a vector store using Chroma\n",
    "vector_store = Chroma.from_documents(document_list, embeddings)\n"
   ]
  },
  {
   "cell_type": "code",
   "execution_count": null,
   "metadata": {},
   "outputs": [],
   "source": [
    "# Start of 2.2\n",
    "# Function to expand the query using WordNet\n",
    "\n",
    "def expand_query_with_synonyms(query):\n",
    "    synonyms = set()\n",
    "    for word in query.split():\n",
    "        for syn in wordnet.synsets(word):\n",
    "            for lemma in syn.lemmas():\n",
    "                synonyms.add(lemma.name())\n",
    "    expanded_query = query + \" \" + \" \".join(synonyms)\n",
    "    return expanded_query\n"
   ]
  },
  {
   "cell_type": "code",
   "execution_count": null,
   "metadata": {},
   "outputs": [],
   "source": [
    "# Expand the initial query\n",
    "query = \"Tell me about the latest news in the world\"\n",
    "expanded_query = expand_query_with_synonyms(query)\n",
    "\n",
    "# Perform semantic search and retrieve relevant documents\n",
    "retrieved_docs = vector_store.similarity_search(expanded_query, k=5)\n",
    "\n"
   ]
  },
  {
   "cell_type": "code",
   "execution_count": null,
   "metadata": {},
   "outputs": [],
   "source": [
    "# Get the Hugging Face token from the environment variables\n",
    "hf_token = os.getenv(\"HUGGING_FACE_TOKEN\")\n",
    "#print(hf_token)\n",
    "\n",
    "# Initialize the LLM (using Mistral or GPT-2 as an example)\n",
    "#llm = pipeline(\"text-generation\", model=\"gpt2\")  # Replace with another model if needed\n",
    "#for VM offline model usage\n",
    "#llm = pipeline(\"text-generation\", model=\"/home/nealsharma/.cache/huggingface/hub/models--mistralai--Mistral-7B-v0.1/snapshots/7231864981174d9bee8c7687c24c8344414eae6b\", batch_size = 50)\n",
    "\n",
    "llm = pipeline(\"text-generation\", model=\"mistralai/Mistral-7B-v0.1\", token=hf_token, batch_size = 50)\n",
    "\n"
   ]
  },
  {
   "cell_type": "code",
   "execution_count": null,
   "metadata": {},
   "outputs": [],
   "source": [
    "# Combine top-ranked documents into a context string\n",
    "context = \" \".join([doc.page_content for doc in retrieved_docs[:2]])  # Limiting to top 2 documents\n",
    "\n",
    "# Generate the final response\n",
    "response = llm(context, max_new_tokens=100, do_sample=True, top_k=50)[0]['generated_text']\n",
    "print(response)\n"
   ]
  }
 ],
 "metadata": {
  "kernelspec": {
   "display_name": "Python 3",
   "language": "python",
   "name": "python3"
  },
  "language_info": {
   "codemirror_mode": {
    "name": "ipython",
    "version": 3
   },
   "file_extension": ".py",
   "mimetype": "text/x-python",
   "name": "python",
   "nbconvert_exporter": "python",
   "pygments_lexer": "ipython3",
   "version": "3.12.4"
  }
 },
 "nbformat": 4,
 "nbformat_minor": 2
}
