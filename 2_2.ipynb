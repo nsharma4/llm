{
 "cells": [
  {
   "cell_type": "code",
   "execution_count": null,
   "metadata": {},
   "outputs": [],
   "source": [
    "import os\n",
    "import pandas as pd\n",
    "from kaggle.api.kaggle_api_extended import KaggleApi\n",
    "from langchain.vectorstores import Chroma\n",
    "from langchain.embeddings import SentenceTransformerEmbeddings\n",
    "from sentence_transformers import SentenceTransformer\n",
    "from transformers import AutoModelForCausalLM, AutoTokenizer\n",
    "from langchain.docstore.document import Document\n",
    "from nltk.corpus import wordnet\n",
    "import torch\n",
    "\n",
    "# Ensure NLTK resources are downloaded\n",
    "import nltk\n",
    "nltk.download('wordnet')\n",
    "\n",
    "# Authenticate with the Kaggle API\n",
    "api = KaggleApi()\n",
    "api.authenticate()\n"
   ]
  },
  {
   "cell_type": "code",
   "execution_count": null,
   "metadata": {},
   "outputs": [],
   "source": [
    "# Download the \"All The News\" dataset from Kaggle\n",
    "api.dataset_download_files('asad1m9a9h6mood/news-articles', path='data/', unzip=True)\n",
    "\n",
    "# Load and process the dataset\n",
    "file_path = 'data/Articles.csv'  # Adjust the path based on dataset name\n",
    "df = pd.read_csv(file_path, encoding='ISO-8859-1')\n"
   ]
  },
  {
   "cell_type": "code",
   "execution_count": null,
   "metadata": {},
   "outputs": [],
   "source": [
    "# Convert documents into the required format for Chroma \n",
    "document_list = [\n",
    "    Document(\n",
    "        page_content=row['Article'],\n",
    "        metadata={\n",
    "            'date': row['Date'],\n",
    "            'heading': row['Heading'],\n",
    "            'news_type': row['NewsType']\n",
    "        }\n",
    "    )\n",
    "    for _, row in df.iterrows()\n",
    "]\n",
    "\n",
    "# TODO Truncate document list because it takes too long to process\n",
    "max_length = 3000\n",
    "if len(document_list) > max_length:\n",
    "    document_list = document_list[:max_length]\n"
   ]
  },
  {
   "cell_type": "code",
   "execution_count": null,
   "metadata": {},
   "outputs": [],
   "source": [
    "# Embed documents using SentenceTransformer\n",
    "embedder = SentenceTransformer('all-MiniLM-L6-v2')\n",
    "embeddings = SentenceTransformerEmbeddings(model_name='all-MiniLM-L6-v2')\n",
    "\n",
    "# Create a vector store using Chroma\n",
    "vector_store = Chroma.from_documents(document_list, embeddings)\n"
   ]
  },
  {
   "cell_type": "code",
   "execution_count": null,
   "metadata": {},
   "outputs": [],
   "source": [
    "# Start of 2.2\n",
    "# Function to expand the query using WordNet\n",
    "\n",
    "def expand_query_with_synonyms(query):\n",
    "    synonyms = set()\n",
    "    for word in query.split():\n",
    "        for syn in wordnet.synsets(word):\n",
    "            for lemma in syn.lemmas():\n",
    "                synonyms.add(lemma.name())\n",
    "    expanded_query = query + \" \" + \" \".join(synonyms)\n",
    "    return expanded_query\n"
   ]
  },
  {
   "cell_type": "code",
   "execution_count": null,
   "metadata": {},
   "outputs": [],
   "source": [
    "# Expand the initial query\n",
    "query = \"Tell me about what the news in Karachi is  mostly about\"\n",
    "expanded_query = expand_query_with_synonyms(query)\n",
    "\n",
    "# Perform semantic search and retrieve relevant documents\n",
    "retrieved_docs = vector_store.similarity_search(expanded_query, k=5)\n",
    "\n",
    "# Combine top-ranked documents into a context string\n",
    "context = \" \".join([doc.page_content for doc in retrieved_docs[:2]])  # Limiting to top 2 documents\n"
   ]
  },
  {
   "cell_type": "code",
   "execution_count": null,
   "metadata": {},
   "outputs": [],
   "source": [
    "# Set the correct model path\n",
    "model_path = \"/home/nealsharma/llm/Mistral-7B-v0.1\""
   ]
  },
  {
   "cell_type": "code",
   "execution_count": null,
   "metadata": {},
   "outputs": [],
   "source": [
    "# Load the tokenizer and model\n",
    "tokenizer = AutoTokenizer.from_pretrained(model_path)\n",
    "model = AutoModelForCausalLM.from_pretrained(model_path, device_map=\"auto\")"
   ]
  },
  {
   "cell_type": "code",
   "execution_count": null,
   "metadata": {},
   "outputs": [],
   "source": [
    "# Tokenize the context\n",
    "inputs = tokenizer(context, return_tensors=\"pt\").to(device)\n"
   ]
  },
  {
   "cell_type": "code",
   "execution_count": null,
   "metadata": {
    "scrolled": true
   },
   "outputs": [],
   "source": [
    "# Generate text using the loaded model\n",
    "with torch.no_grad():  # Disables gradient computation for faster inference\n",
    "    outputs = model.generate(\n",
    "        inputs['input_ids'],\n",
    "        attention_mask=inputs['attention_mask'],\n",
    "        max_new_tokens=50,  # Generate up to 100 new tokens\n",
    "        do_sample=True,      # Enable sampling for more varied results\n",
    "        top_k=50,            # Limit the sampling to the top 50 tokens\n",
    "        temperature=0.7,      # Control the randomness (higher = more random)\n",
    "        length_penalty=1.5  # Discourages very long outputs\n",
    "    )\n",
    "\n",
    "# Decode the generated tokens back into text\n",
    "generated_text = tokenizer.decode(outputs[0], skip_special_tokens=True)\n",
    "\n",
    "# Print the generated text\n",
    "print(generated_text)\n",
    "\n"
   ]
  },
  {
   "cell_type": "code",
   "execution_count": null,
   "metadata": {},
   "outputs": [],
   "source": []
  }
 ],
 "metadata": {
  "kernelspec": {
   "display_name": "Python 3 (ipykernel)",
   "language": "python",
   "name": "python3"
  },
  "language_info": {
   "codemirror_mode": {
    "name": "ipython",
    "version": 3
   },
   "file_extension": ".py",
   "mimetype": "text/x-python",
   "name": "python",
   "nbconvert_exporter": "python",
   "pygments_lexer": "ipython3",
   "version": "3.8.10"
  }
 },
 "nbformat": 4,
 "nbformat_minor": 4
}
